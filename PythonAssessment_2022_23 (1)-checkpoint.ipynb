{
 "cells": [
  {
   "cell_type": "markdown",
   "metadata": {
    "id": "hqlAwxycceLg"
   },
   "source": [
    "# Welcome to the **Python Assessment** of **Vertical Collaboration, Open Community**\n",
    "\n",
    "## About the dataset\n",
    "This dataset contains house sale prices for King County, which includes Seattle. It includes homes sold between May 2014 and May 2015.\n",
    "\n",
    "##### To pass the assessment, you must answer all 11 questions correctly ***Bonus section is optional*.\n",
    "\n",
    "#### Wish you all the best!!\n",
    "\n",
    "\n"
   ]
  },
  {
   "cell_type": "code",
   "execution_count": 37,
   "metadata": {
    "id": "wU_bXJPAcsQc"
   },
   "outputs": [],
   "source": [
    "import numpy as np\n",
    "import pandas as pd\n",
    "import matplotlib.pyplot as plt"
   ]
  },
  {
   "cell_type": "markdown",
   "metadata": {
    "id": "4XxnlWfzd7xk"
   },
   "source": [
    "Q1) Your understanding about (max 50 words)\n",
    "\n",
    "\n",
    "1.   NumPY:\n",
    "NumPy stands for Numerical Python. NumPY is a powerful python library that offers powerful n- dimentional arrays,computational tools, linear algebra routines .\n",
    "NumPY is widly used as it is open source and many contributors are developing and maintaining software with its use .\n",
    "\n",
    "2.   Pandas: \n",
    "It is an open source python library that allows importing data from various file formats as SQL,JSON ,queries and MS Excel .\n",
    "It is mainly used in the Data Analysis.Pandas allows us to analyze big data and make conclusions based on statistical theories.Pandas can clean messy or unusual  data sets, and make them readable .\n",
    "\n",
    "3.   MatPlotLib: \n",
    "Matplotlib is one of the most popular Python packages used for data visualization .It provides an object-oriented API that helps in making plots in applications using Python GUI toolkits.\n",
    "Basically used  to make a well defined graphical represetations.Mostly used with Pandas and NumPY to develop programs.\n",
    "MatplotLib is also an open source libray that is used in web servers ,jupyter notebooks and python shells.\n",
    "\n",
    "\n"
   ]
  },
  {
   "cell_type": "markdown",
   "metadata": {
    "id": "XmRRFzQccy3j"
   },
   "source": [
    "Q2) Upload the given dataset into the folder named sample_data"
   ]
  },
  {
   "cell_type": "code",
   "execution_count": 38,
   "metadata": {
    "id": "npg0aacAcuDR"
   },
   "outputs": [],
   "source": [
    "sales = pd.read_csv('sample_data/kc_house_data.csv')"
   ]
  },
  {
   "cell_type": "markdown",
   "metadata": {
    "id": "zvQY-iP4c4HD"
   },
   "source": [
    "Q2) Find out the total number of rows and columns present in our dataset"
   ]
  },
  {
   "cell_type": "code",
   "execution_count": 39,
   "metadata": {},
   "outputs": [
    {
     "name": "stdout",
     "output_type": "stream",
     "text": [
      "           id             date     price  bedrooms  bathrooms  sqft_living  \\\n",
      "0  7129300520  20141013T000000  221900.0         3       1.00         1180   \n",
      "1  6414100192  20141209T000000  538000.0         3       2.25         2570   \n",
      "2  5631500400  20150225T000000  180000.0         2       1.00          770   \n",
      "3  2487200875  20141209T000000  604000.0         4       3.00         1960   \n",
      "4  1954400510  20150218T000000  510000.0         3       2.00         1680   \n",
      "\n",
      "   sqft_lot  floors  waterfront  view  ...  grade  sqft_above  sqft_basement  \\\n",
      "0      5650     1.0           0     0  ...      7        1180              0   \n",
      "1      7242     2.0           0     0  ...      7        2170            400   \n",
      "2     10000     1.0           0     0  ...      6         770              0   \n",
      "3      5000     1.0           0     0  ...      7        1050            910   \n",
      "4      8080     1.0           0     0  ...      8        1680              0   \n",
      "\n",
      "   yr_built  yr_renovated  zipcode      lat     long  sqft_living15  \\\n",
      "0      1955             0    98178  47.5112 -122.257           1340   \n",
      "1      1951          1991    98125  47.7210 -122.319           1690   \n",
      "2      1933             0    98028  47.7379 -122.233           2720   \n",
      "3      1965             0    98136  47.5208 -122.393           1360   \n",
      "4      1987             0    98074  47.6168 -122.045           1800   \n",
      "\n",
      "   sqft_lot15  \n",
      "0        5650  \n",
      "1        7639  \n",
      "2        8062  \n",
      "3        5000  \n",
      "4        7503  \n",
      "\n",
      "[5 rows x 21 columns]\n"
     ]
    }
   ],
   "source": [
    "print(sales.head())"
   ]
  },
  {
   "cell_type": "code",
   "execution_count": 40,
   "metadata": {},
   "outputs": [
    {
     "name": "stdout",
     "output_type": "stream",
     "text": [
      "<class 'pandas.core.frame.DataFrame'>\n",
      "RangeIndex: 21613 entries, 0 to 21612\n",
      "Data columns (total 21 columns):\n",
      " #   Column         Non-Null Count  Dtype  \n",
      "---  ------         --------------  -----  \n",
      " 0   id             21613 non-null  int64  \n",
      " 1   date           21613 non-null  object \n",
      " 2   price          21613 non-null  float64\n",
      " 3   bedrooms       21613 non-null  int64  \n",
      " 4   bathrooms      21613 non-null  float64\n",
      " 5   sqft_living    21613 non-null  int64  \n",
      " 6   sqft_lot       21613 non-null  int64  \n",
      " 7   floors         21613 non-null  float64\n",
      " 8   waterfront     21613 non-null  int64  \n",
      " 9   view           21613 non-null  int64  \n",
      " 10  condition      21613 non-null  int64  \n",
      " 11  grade          21613 non-null  int64  \n",
      " 12  sqft_above     21613 non-null  int64  \n",
      " 13  sqft_basement  21613 non-null  int64  \n",
      " 14  yr_built       21613 non-null  int64  \n",
      " 15  yr_renovated   21613 non-null  int64  \n",
      " 16  zipcode        21613 non-null  int64  \n",
      " 17  lat            21613 non-null  float64\n",
      " 18  long           21613 non-null  float64\n",
      " 19  sqft_living15  21613 non-null  int64  \n",
      " 20  sqft_lot15     21613 non-null  int64  \n",
      "dtypes: float64(5), int64(15), object(1)\n",
      "memory usage: 3.5+ MB\n"
     ]
    }
   ],
   "source": [
    "sales.info()#(display number of rows ,columns)"
   ]
  },
  {
   "cell_type": "code",
   "execution_count": 41,
   "metadata": {},
   "outputs": [
    {
     "data": {
      "text/plain": [
       "21613"
      ]
     },
     "execution_count": 41,
     "metadata": {},
     "output_type": "execute_result"
    }
   ],
   "source": [
    "len(sales)# total number of rows"
   ]
  },
  {
   "cell_type": "code",
   "execution_count": 42,
   "metadata": {},
   "outputs": [
    {
     "data": {
      "text/plain": [
       "21"
      ]
     },
     "execution_count": 42,
     "metadata": {},
     "output_type": "execute_result"
    }
   ],
   "source": [
    "len(sales.columns)# total number of columns"
   ]
  },
  {
   "cell_type": "markdown",
   "metadata": {
    "id": "R6EDQ3U7dMii"
   },
   "source": [
    "Q3) Find out the mean of Price"
   ]
  },
  {
   "cell_type": "code",
   "execution_count": 43,
   "metadata": {
    "id": "2yVwB0Ztc9zz"
   },
   "outputs": [],
   "source": [
    "Price=sales[\"price\"]"
   ]
  },
  {
   "cell_type": "code",
   "execution_count": 44,
   "metadata": {},
   "outputs": [
    {
     "name": "stdout",
     "output_type": "stream",
     "text": [
      "540088.1417665294\n"
     ]
    }
   ],
   "source": [
    "print(Price.mean())"
   ]
  },
  {
   "cell_type": "markdown",
   "metadata": {
    "id": "2QO6-TXvddnN"
   },
   "source": [
    "Q4) Find out which zipcode has maximum no of sales"
   ]
  },
  {
   "cell_type": "code",
   "execution_count": 45,
   "metadata": {
    "id": "vlSAsQfQfgg2",
    "scrolled": true
   },
   "outputs": [],
   "source": [
    "Zipcode=sales[\"zipcode\"]"
   ]
  },
  {
   "cell_type": "code",
   "execution_count": 46,
   "metadata": {},
   "outputs": [
    {
     "name": "stdout",
     "output_type": "stream",
     "text": [
      "0    98103\n",
      "dtype: int64\n"
     ]
    }
   ],
   "source": [
    "print(Zipcode.mode())"
   ]
  },
  {
   "cell_type": "markdown",
   "metadata": {
    "id": "eeLeVaWBdj7e"
   },
   "source": [
    "Q5) Make an array displaying type of house grade present"
   ]
  },
  {
   "cell_type": "code",
   "execution_count": 47,
   "metadata": {
    "id": "TOVrRt4sfhrK"
   },
   "outputs": [],
   "source": [
    "grade=sales[\"grade\"]\n",
    "grade=set(grade)\n",
    "grade=np.array(grade)"
   ]
  },
  {
   "cell_type": "code",
   "execution_count": 48,
   "metadata": {},
   "outputs": [
    {
     "name": "stdout",
     "output_type": "stream",
     "text": [
      "{1, 3, 4, 5, 6, 7, 8, 9, 10, 11, 12, 13}\n"
     ]
    }
   ],
   "source": [
    "print(grade)"
   ]
  },
  {
   "cell_type": "markdown",
   "metadata": {
    "id": "vyYhtqQDdxqj"
   },
   "source": [
    "Q6) Find out the total no sales in conditions 3 and 4"
   ]
  },
  {
   "cell_type": "code",
   "execution_count": 49,
   "metadata": {
    "id": "SkBMOVvafiei"
   },
   "outputs": [],
   "source": [
    "cond =sales['condition'].value_counts()"
   ]
  },
  {
   "cell_type": "code",
   "execution_count": 50,
   "metadata": {},
   "outputs": [
    {
     "name": "stdout",
     "output_type": "stream",
     "text": [
      "3    14031\n",
      "4     5679\n",
      "5     1701\n",
      "2      172\n",
      "1       30\n",
      "Name: condition, dtype: int64\n"
     ]
    }
   ],
   "source": [
    "print(cond)"
   ]
  },
  {
   "cell_type": "code",
   "execution_count": 51,
   "metadata": {},
   "outputs": [
    {
     "name": "stdout",
     "output_type": "stream",
     "text": [
      "14031\n"
     ]
    }
   ],
   "source": [
    "print(cond[3])#for condition 3"
   ]
  },
  {
   "cell_type": "code",
   "execution_count": 52,
   "metadata": {},
   "outputs": [
    {
     "name": "stdout",
     "output_type": "stream",
     "text": [
      "5679\n"
     ]
    }
   ],
   "source": [
    "print(cond[4])#for condition 4"
   ]
  },
  {
   "cell_type": "code",
   "execution_count": 53,
   "metadata": {},
   "outputs": [
    {
     "name": "stdout",
     "output_type": "stream",
     "text": [
      "19710\n"
     ]
    }
   ],
   "source": [
    "print(cond[3]+cond[4])#for condition 3 and 4"
   ]
  },
  {
   "cell_type": "markdown",
   "metadata": {
    "id": "AHs7ZLKrdTsD"
   },
   "source": [
    "Q7) Find out the top-five ids with the highest prices"
   ]
  },
  {
   "cell_type": "code",
   "execution_count": 54,
   "metadata": {
    "id": "BS653UBKfjfK"
   },
   "outputs": [],
   "source": [
    "Sorted_sales=sales.sort_values('price')#sorted 'price' data\n"
   ]
  },
  {
   "cell_type": "code",
   "execution_count": 55,
   "metadata": {},
   "outputs": [
    {
     "data": {
      "text/plain": [
       "1448    8907500070\n",
       "4411    2470100110\n",
       "9254    9208900037\n",
       "3914    9808700762\n",
       "7252    6762700020\n",
       "Name: id, dtype: int64"
      ]
     },
     "execution_count": 55,
     "metadata": {},
     "output_type": "execute_result"
    }
   ],
   "source": [
    "Sorted_sales['id'].tail()#default value for tail is 5 "
   ]
  },
  {
   "cell_type": "markdown",
   "metadata": {
    "id": "XP54QULPdZTh"
   },
   "source": [
    "Q8) Draw a pie chart displaying the types of house conditions present"
   ]
  },
  {
   "cell_type": "code",
   "execution_count": 56,
   "metadata": {},
   "outputs": [],
   "source": [
    "cond=sales['condition'].value_counts()\n",
    "cond_sum=cond.sum()\n",
    "cond_percentage=(cond/cond_sum)*100"
   ]
  },
  {
   "cell_type": "code",
   "execution_count": 57,
   "metadata": {
    "id": "5XP9quaFfkaI",
    "scrolled": true
   },
   "outputs": [
    {
     "data": {
      "text/plain": [
       "([<matplotlib.patches.Wedge at 0x1d4d0e1ff40>,\n",
       "  <matplotlib.patches.Wedge at 0x1d4d0e2d490>,\n",
       "  <matplotlib.patches.Wedge at 0x1d4d0e2d8b0>,\n",
       "  <matplotlib.patches.Wedge at 0x1d4d0e2dcd0>,\n",
       "  <matplotlib.patches.Wedge at 0x1d4d0e3b130>],\n",
       " [Text(-0.49690197886140836, 0.9813706860323558, '3'),\n",
       "  Text(0.2100008356562849, -1.0797683311820467, '4'),\n",
       "  Text(1.0489089515253838, -0.3313457580985767, '5'),\n",
       "  Text(1.099374597696873, -0.03708765210738986, '2'),\n",
       "  Text(1.0999895428200286, -0.004796424354074961, '1')])"
      ]
     },
     "execution_count": 57,
     "metadata": {},
     "output_type": "execute_result"
    },
    {
     "data": {
      "image/png": "[encoded data removed]",
      "text/plain": [
       "<Figure size 720x504 with 1 Axes>"
      ]
     },
     "metadata": {},
     "output_type": "display_data"
    }
   ],
   "source": [
    "fig = plt.figure(figsize =(10, 7))\n",
    "plt.pie(cond_percentage,labels=cond.index)"
   ]
  },
  {
   "cell_type": "markdown",
   "metadata": {
    "id": "8gkXMakRdgnZ"
   },
   "source": [
    "Q9) Draw a bar graph displaying the no of sales"
   ]
  },
  {
   "cell_type": "code",
   "execution_count": 58,
   "metadata": {
    "id": "LFwCnSCUflFB"
   },
   "outputs": [],
   "source": [
    "Zipcode=sales['zipcode']# displaying the number of sales according to the Zipcode\n",
    "Zipcode=Zipcode.value_counts()\n",
    "b=np.array(Zipcode.index)"
   ]
  },
  {
   "cell_type": "code",
   "execution_count": 59,
   "metadata": {},
   "outputs": [
    {
     "data": {
      "text/plain": [
       "<BarContainer object of 70 artists>"
      ]
     },
     "execution_count": 59,
     "metadata": {},
     "output_type": "execute_result"
    },
    {
     "data": {
      "image/png": "[encoded data removed]",
      "text/plain": [
       "<Figure size 432x288 with 1 Axes>"
      ]
     },
     "metadata": {
      "needs_background": "light"
     },
     "output_type": "display_data"
    }
   ],
   "source": [
    "plt.bar(b,Zipcode.values)"
   ]
  },
  {
   "cell_type": "markdown",
   "metadata": {
    "id": "_LGgh106dsBQ"
   },
   "source": [
    "Q10) Draw a graph that display the no of sales according to the date"
   ]
  },
  {
   "cell_type": "code",
   "execution_count": 60,
   "metadata": {
    "id": "pcKacoICflze"
   },
   "outputs": [],
   "source": [
    "date=sales['date']"
   ]
  },
  {
   "cell_type": "code",
   "execution_count": 61,
   "metadata": {},
   "outputs": [],
   "source": [
    "date_freq = date.value_counts()"
   ]
  },
  {
   "cell_type": "code",
   "execution_count": 62,
   "metadata": {},
   "outputs": [
    {
     "data": {
      "text/plain": [
       "[<matplotlib.lines.Line2D at 0x1d4d0c3c6d0>]"
      ]
     },
     "execution_count": 62,
     "metadata": {},
     "output_type": "execute_result"
    },
    {
     "data": {
      "image/png": "[encoded data removed]",
      "text/plain": [
       "<Figure size 432x288 with 1 Axes>"
      ]
     },
     "metadata": {
      "needs_background": "light"
     },
     "output_type": "display_data"
    }
   ],
   "source": [
    "date_index = np.array(date_freq.index)\n",
    "plt.plot(date_index,date_freq)"
   ]
  },
  {
   "cell_type": "markdown",
   "metadata": {
    "id": "jFgB7RxAd0rn"
   },
   "source": [
    "Q11) Draw a bar graph that displays the no of sales accoring to the house grade"
   ]
  },
  {
   "cell_type": "code",
   "execution_count": 63,
   "metadata": {},
   "outputs": [],
   "source": [
    "grade=sales['grade']\n",
    "grade=grade.value_counts()\n",
    "b=np.array(grade.index)"
   ]
  },
  {
   "cell_type": "code",
   "execution_count": 64,
   "metadata": {},
   "outputs": [
    {
     "data": {
      "text/plain": [
       "<BarContainer object of 12 artists>"
      ]
     },
     "execution_count": 64,
     "metadata": {},
     "output_type": "execute_result"
    },
    {
     "data": {
      "image/png": "[encoded data removed]",
      "text/plain": [
       "<Figure size 432x288 with 1 Axes>"
      ]
     },
     "metadata": {
      "needs_background": "light"
     },
     "output_type": "display_data"
    }
   ],
   "source": [
    "plt.bar(b,grade.values)"
   ]
  },
  {
   "cell_type": "markdown",
   "metadata": {
    "id": "HXIvKNK7doXJ"
   },
   "source": [
    "### BONUS"
   ]
  },
  {
   "cell_type": "markdown",
   "metadata": {
    "id": "PRP0ZaKFe8xt"
   },
   "source": [
    "Q1) Is there any relationship present between Year Built and Price? If yes, Please explain."
   ]
  },
  {
   "cell_type": "code",
   "execution_count": 65,
   "metadata": {},
   "outputs": [],
   "source": [
    "sales_by_year = sales.groupby('yr_built').mean()\n",
    "sales_by_year = sales_by_year['price']"
   ]
  },
  {
   "cell_type": "code",
   "execution_count": 66,
   "metadata": {},
   "outputs": [
    {
     "data": {
      "text/plain": [
       "[<matplotlib.lines.Line2D at 0x1d4d15f8e20>]"
      ]
     },
     "execution_count": 66,
     "metadata": {},
     "output_type": "execute_result"
    },
    {
     "data": {
      "image/png": "[encoded data removed]",
      "text/plain": [
       "<Figure size 432x288 with 1 Axes>"
      ]
     },
     "metadata": {
      "needs_background": "light"
     },
     "output_type": "display_data"
    }
   ],
   "source": [
    "plt.plot(np.array(sales_by_year.index),sales_by_year)"
   ]
  },
  {
   "cell_type": "markdown",
   "metadata": {},
   "source": [
    "Since the graph seems to not be following any particular pattern, we can conclude that there is no direct relation between year built and the price of the house."
   ]
  },
  {
   "cell_type": "markdown",
   "metadata": {
    "id": "QQvNxYe5d3-3"
   },
   "source": [
    "Q2 ) Add 1.8% TAX on every sale Price within Zipcode 98103"
   ]
  },
  {
   "cell_type": "code",
   "execution_count": 67,
   "metadata": {
    "id": "lWDids4yfEAz"
   },
   "outputs": [],
   "source": [
    "zip_98103=sales[sales['zipcode']==98103]\n",
    "zip_98103 = zip_98103['price']"
   ]
  },
  {
   "cell_type": "code",
   "execution_count": 68,
   "metadata": {},
   "outputs": [
    {
     "data": {
      "text/plain": [
       "17       493730.0\n",
       "111      580260.0\n",
       "116      527833.0\n",
       "128      837305.0\n",
       "149      520198.0\n",
       "           ...   \n",
       "21567    702420.0\n",
       "21574    621947.1\n",
       "21592    483550.0\n",
       "21595    529360.0\n",
       "21608    366480.0\n",
       "Name: price, Length: 602, dtype: float64"
      ]
     },
     "execution_count": 68,
     "metadata": {},
     "output_type": "execute_result"
    }
   ],
   "source": [
    "zip_tax = zip_98103*1.018\n",
    "zip_tax #price after tax was applied"
   ]
  },
  {
   "cell_type": "code",
   "execution_count": null,
   "metadata": {},
   "outputs": [],
   "source": []
  }
 ],
 "metadata": {
  "colab": {
   "collapsed_sections": [],
   "name": "PythonAssessment_2022-23",
   "provenance": []
  },
  "kernelspec": {
   "display_name": "Python 3",
   "language": "python",
   "name": "python3"
  },
  "language_info": {
   "codemirror_mode": {
    "name": "ipython",
    "version": 3
   },
   "file_extension": ".py",
   "mimetype": "text/x-python",
   "name": "python",
   "nbconvert_exporter": "python",
   "pygments_lexer": "ipython3",
   "version": "3.8.8"
  }
 },
 "nbformat": 4,
 "nbformat_minor": 1
}
